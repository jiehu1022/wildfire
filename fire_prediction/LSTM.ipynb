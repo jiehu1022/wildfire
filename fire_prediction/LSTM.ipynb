{
 "cells": [
  {
   "cell_type": "code",
   "execution_count": null,
   "metadata": {},
   "outputs": [],
   "source": [
    "import pandas as pd\n",
    "import os\n",
    "from glob import glob\n",
    "from PIL import Image\n",
    "import matplotlib.pyplot as plt\n",
    "import numpy as np"
   ]
  },
  {
   "cell_type": "code",
   "execution_count": null,
   "metadata": {},
   "outputs": [],
   "source": [
    "filedir = '<dataset folder here>'"
   ]
  },
  {
   "cell_type": "code",
   "execution_count": null,
   "metadata": {},
   "outputs": [],
   "source": [
    "#df = pd.read_csv('data/landsat8_data_with_fire.csv')\n",
    "\n",
    "df = pd.read_csv(os.path.join(filedir, 'dataset_path40_39_with_fire_v1.csv'))\n",
    "                \n",
    "\n",
    "df=df.drop(columns=[\"Unnamed: 0\",\"Unnamed: 0.1\"])\n",
    "df.head(2)"
   ]
  },
  {
   "cell_type": "code",
   "execution_count": null,
   "metadata": {},
   "outputs": [],
   "source": [
    "df_fire = df\n",
    "df_fire['fire_nofire'] = df_fire['fire_nofire'].map(lambda x : 'no_fire' if x == 'no fire' else 'fire')\n",
    "df_fire.head(2)\n",
    "df = df_fire"
   ]
  },
  {
   "cell_type": "code",
   "execution_count": null,
   "metadata": {},
   "outputs": [],
   "source": [
    "df_fire = df_fire[(df_fire.width == 512) & (df_fire.height == 512)]"
   ]
  },
  {
   "cell_type": "code",
   "execution_count": null,
   "metadata": {},
   "outputs": [],
   "source": [
    "df_dataset = df_fire[df_fire.fire_nofire == 'fire'].append(df_fire[df_fire.fire_nofire == 'no_fire'][0:2000])\n",
    "#df_dataset = df_fire"
   ]
  },
  {
   "cell_type": "code",
   "execution_count": null,
   "metadata": {},
   "outputs": [],
   "source": [
    "df_dataset.shape"
   ]
  },
  {
   "cell_type": "code",
   "execution_count": null,
   "metadata": {},
   "outputs": [],
   "source": [
    "from PIL import TiffImagePlugin\n",
    "\n",
    "def resize(image, width, height):\n",
    "    #print(image)\n",
    "    \n",
    "    #im1 = Image.open(image)\n",
    "    \n",
    "    width = width\n",
    "    height = height\n",
    "    # use one of these filter options to resize the image\n",
    "    im2 = image.resize((width, height), Image.NEAREST)      # use nearest neighbour\n",
    "    return im2"
   ]
  },
  {
   "cell_type": "code",
   "execution_count": null,
   "metadata": {},
   "outputs": [],
   "source": [
    "def plotgrid(dataframe):\n",
    "    images=[]\n",
    "    classes=[]\n",
    "    for item in df_date.itertuples():\n",
    "        #print(item.filename)\n",
    "        filename, ext = os.path.splitext(item.filename)\n",
    "        rowcol = filename.split(\"_\")\n",
    "        loc = \"{}:{}\".format(rowcol[9], rowcol[10])\n",
    "        filename = os.path.join(filedir, 'ndvijpegs',filename+\".jpeg\")\n",
    "    \n",
    "        #print(filename)\n",
    "        im = Image.open(filename)\n",
    "        \n",
    "        im = resize(im, 100, 100)\n",
    "        images.append(im)\n",
    "        classes.append(item.fire_nofire)\n",
    "    fig = plt.figure(figsize=(10, 10))\n",
    "    grid = ImageGrid(fig, 111,  # similar to subplot(111)\n",
    "                 nrows_ncols=(16, 16),  # creates 2x2 grid of axes\n",
    "                 axes_pad=0.1,  # pad between axes in inch.\n",
    "                 )\n",
    "    #im_fire = Image.open(\"data/fire.png\")\n",
    "    #im_fire = resize(im_fire, 25,25)\n",
    "    for ax, im, c in zip(grid, images,classes):\n",
    "        # Iterating over the grid returns the Axes.\n",
    "        ax.text(50,50, loc)\n",
    "        ax.imshow(im,cmap='terrain')\n",
    "        \n",
    "        if c == 'fire':\n",
    "            extent = 0, 100, 0, 100\n",
    "            kwargs = {\"alpha\":0.5}\n",
    "            rect = patches.Rectangle((0,0),100,100,linewidth=1,edgecolor='r',facecolor='r', **kwargs)\n",
    "            #rect.set_alpha(0.1)\n",
    "            ax.add_patch(rect)\n",
    "            #ax.imshow(im_fire, alpha=0.1, extent=extent)\n",
    "\n",
    "    plt.show()"
   ]
  },
  {
   "cell_type": "code",
   "execution_count": null,
   "metadata": {},
   "outputs": [],
   "source": []
  },
  {
   "cell_type": "code",
   "execution_count": null,
   "metadata": {},
   "outputs": [],
   "source": [
    "\n",
    "Path={}\n",
    "for item in glob(os.path.join(filedir, 'ndvijpegs', '*.jpeg')):\n",
    "    #print(item)\n",
    "    filename = os.path.splitext(os.path.basename(item))[0]\n",
    "    #print(filename)\n",
    "    Path[filename+\".TIF\"] = item\n",
    " "
   ]
  },
  {
   "cell_type": "code",
   "execution_count": null,
   "metadata": {},
   "outputs": [],
   "source": [
    "df_dataset['path'] = df_dataset['filename'].map(Path.get)\n",
    "df_dataset.head(2)"
   ]
  },
  {
   "cell_type": "code",
   "execution_count": null,
   "metadata": {},
   "outputs": [],
   "source": [
    "df_dataset['image'] = df_dataset['path'].map(lambda x: np.asarray(Image.open(x).resize((28,28))))"
   ]
  },
  {
   "cell_type": "code",
   "execution_count": null,
   "metadata": {},
   "outputs": [],
   "source": [
    "df_dataset.head(2)"
   ]
  },
  {
   "cell_type": "code",
   "execution_count": null,
   "metadata": {},
   "outputs": [],
   "source": [
    "df_dataset['image'] = df_dataset['image'].map(lambda x: np.array(x).reshape(x.shape[0],x.shape[1]))\n",
    "#df_dataset['image'][0].reshape(512,512,1)"
   ]
  },
  {
   "cell_type": "code",
   "execution_count": null,
   "metadata": {},
   "outputs": [],
   "source": []
  },
  {
   "cell_type": "code",
   "execution_count": null,
   "metadata": {},
   "outputs": [],
   "source": [
    "%matplotlib notebook\n",
    "import matplotlib.animation as animation\n",
    "fig = plt.figure()\n",
    "ims = []\n",
    "for item in df9.itertuples():\n",
    "    plt.text(20, 20, item.fire_nofire, fontsize=12)\n",
    "    im = plt.imshow(item.image, cmap='RdYlGn_r', animated=True)\n",
    "    \n",
    "    ims.append([im])\n",
    "    #print(item.fire_nofire)\n",
    "\n",
    "ani = animation.ArtistAnimation(fig, ims, interval=100, blit=True,\n",
    "                                repeat_delay=1000)\n",
    "\n",
    "ani.save('dynamic_images3.mp4')\n",
    "\n",
    "plt.show()"
   ]
  },
  {
   "cell_type": "code",
   "execution_count": null,
   "metadata": {},
   "outputs": [],
   "source": [
    "%matplotlib notebook\n",
    "fig = plt.figure()\n",
    "\n",
    "\n",
    "def f(x, y):\n",
    "    return np.sin(x) + np.cos(y)\n",
    "\n",
    "x = np.linspace(0, 2 * np.pi, 120)\n",
    "y = np.linspace(0, 2 * np.pi, 100).reshape(-1, 1)\n",
    "\n",
    "im = plt.imshow(df_dataset['image'][1000], animated=True)\n",
    "\n",
    "i = 1000\n",
    "#def updatefig(*args):\n",
    "def updatefig(*args):\n",
    "    global i\n",
    "    global df_dataset\n",
    "    print(i)\n",
    "    i+=1\n",
    "    im.set_array(df_dataset['image'][i])\n",
    "    return im,\n",
    "\n",
    "ani = animation.FuncAnimation(fig, updatefig, interval=10, blit=True)\n",
    "plt.show()"
   ]
  },
  {
   "cell_type": "code",
   "execution_count": null,
   "metadata": {},
   "outputs": [],
   "source": [
    "%matplotlib notebook\n",
    "import numpy as np\n",
    "import matplotlib.pyplot as plt\n",
    "import matplotlib.animation as animation\n",
    "\n",
    "TWOPI = 2*np.pi\n",
    "\n",
    "fig, ax = plt.subplots()\n",
    "\n",
    "t = np.arange(0.0, TWOPI, 0.001)\n",
    "s = np.sin(t)\n",
    "l = plt.plot(t, s)\n",
    "\n",
    "ax = plt.axis([0,TWOPI,-1,1])\n",
    "\n",
    "redDot, = plt.plot([0], [np.sin(0)], 'ro')\n",
    "\n",
    "def animate(i):\n",
    "    redDot.set_data(i, np.sin(i))\n",
    "    return redDot,\n",
    "\n",
    "# create animation using the animate() function\n",
    "myAnimation = animation.FuncAnimation(fig, animate, frames=np.arange(0.0, TWOPI, 0.1), \\\n",
    "                                      interval=10, blit=True, repeat=True)\n",
    "\n",
    "plt.show()\n"
   ]
  },
  {
   "cell_type": "code",
   "execution_count": null,
   "metadata": {},
   "outputs": [],
   "source": [
    "#df_dataset = df_dataset[df_dataset.width == 512]"
   ]
  },
  {
   "cell_type": "code",
   "execution_count": null,
   "metadata": {},
   "outputs": [],
   "source": [
    "X=df_dataset.drop(columns=[\"fire_nofire\"])\n",
    "Y=df_dataset[\"fire_nofire\"]\n",
    "from sklearn.model_selection import train_test_split\n",
    "X_train, X_test, Y_train, Y_test = train_test_split(\n",
    "     X, Y, test_size=0.33, random_state=42)\n",
    "\n",
    "#X_train = np.array(X_train).reshape(10078, 28,28,1)\n"
   ]
  },
  {
   "cell_type": "code",
   "execution_count": null,
   "metadata": {},
   "outputs": [],
   "source": []
  },
  {
   "cell_type": "code",
   "execution_count": null,
   "metadata": {},
   "outputs": [],
   "source": [
    "x_train = np.asarray(X_train['image'].tolist())\n",
    "\n",
    "x_test = np.asarray(X_test['image'].tolist())\n",
    "#x_train = x_train.reshape(x_train.shape[0], *(512,512,1))\n",
    "#x_test = x_test.reshape(x_test.shape[0], *(75, 100, 3))\n",
    "\n",
    "xTrainmean = np.mean(x_train)\n",
    "xTrainstd = np.std(x_train)\n",
    "xTestmean = np.mean(x_test)\n",
    "xTeststd = np.std(x_test)\n",
    "x_train = (x_train - xTrainmean)/xTrainstd\n",
    "x_test = (x_test - xTestmean)/xTeststd"
   ]
  },
  {
   "cell_type": "code",
   "execution_count": null,
   "metadata": {},
   "outputs": [],
   "source": [
    "import keras"
   ]
  },
  {
   "cell_type": "code",
   "execution_count": null,
   "metadata": {},
   "outputs": [],
   "source": [
    "#import sys\n",
    "#!{sys.executable}  -m pip install --user keras"
   ]
  },
  {
   "cell_type": "code",
   "execution_count": null,
   "metadata": {},
   "outputs": [],
   "source": [
    "#!{sys.executable}  -m pip install --user tensorflow"
   ]
  },
  {
   "cell_type": "code",
   "execution_count": null,
   "metadata": {},
   "outputs": [],
   "source": [
    "from sklearn import preprocessing\n",
    "le = preprocessing.LabelEncoder()\n",
    "\n",
    "t1 = le.fit_transform(Y_train)\n",
    "t2 = le.fit_transform(Y_test)\n",
    "y_train = keras.utils.to_categorical(t1, num_classes=2)\n",
    "y_test = keras.utils.to_categorical(t2, num_classes=2)\n",
    "y_train.shape"
   ]
  },
  {
   "cell_type": "code",
   "execution_count": null,
   "metadata": {},
   "outputs": [],
   "source": [
    "Y_train[0]"
   ]
  },
  {
   "cell_type": "code",
   "execution_count": null,
   "metadata": {},
   "outputs": [],
   "source": [
    "y_train[0]"
   ]
  },
  {
   "cell_type": "code",
   "execution_count": null,
   "metadata": {},
   "outputs": [],
   "source": [
    "x_train.shape"
   ]
  },
  {
   "cell_type": "code",
   "execution_count": null,
   "metadata": {},
   "outputs": [],
   "source": [
    "nsamples, nx, ny = x_train.shape\n",
    "d2_train_dataset = x_train.reshape((nsamples,nx*ny))\n",
    "d2_train_dataset.shape"
   ]
  },
  {
   "cell_type": "code",
   "execution_count": null,
   "metadata": {},
   "outputs": [],
   "source": [
    "nsamples, nx, ny = x_test.shape\n",
    "d2_test_dataset = x_test.reshape((nsamples,nx*ny))\n",
    "d2_test_dataset.shape"
   ]
  },
  {
   "cell_type": "code",
   "execution_count": null,
   "metadata": {},
   "outputs": [],
   "source": [
    "import tensorflow as tf\n",
    "from tensorflow.keras.models import Sequential\n",
    "from tensorflow.keras.layers import Dense, Dropout, LSTM\n"
   ]
  },
  {
   "cell_type": "code",
   "execution_count": null,
   "metadata": {},
   "outputs": [],
   "source": [
    "model = Sequential()\n",
    "model.add(LSTM(128, input_shape=(x_train.shape[1:]), activation='relu', return_sequences=True))\n",
    "model.add(Dropout(0.2))\n",
    "\n",
    "model.add(LSTM(128, activation='relu'))\n",
    "model.add(Dropout(0.1))\n",
    "\n",
    "\n",
    "model.add(Dense(32, activation='relu'))\n",
    "model.add(Dropout(0.2))\n",
    "\n",
    "model.add(Dense(2, activation='softmax'))\n"
   ]
  },
  {
   "cell_type": "code",
   "execution_count": null,
   "metadata": {},
   "outputs": [],
   "source": [
    "from tensorflow.keras.metrics import AUC\n",
    "opt = tf.keras.optimizers.Adam(lr=0.001, decay=1e-6)\n",
    "\n",
    "model.compile(\n",
    "    loss='categorical_crossentropy',\n",
    "    optimizer=opt,\n",
    "    metrics=['accuracy', tf.keras.metrics.AUC()],\n",
    ")\n",
    "\n",
    "history = model.fit(x_train,\n",
    "          y_train,\n",
    "          epochs=100,\n",
    "          )\n"
   ]
  },
  {
   "cell_type": "code",
   "execution_count": null,
   "metadata": {},
   "outputs": [],
   "source": [
    "print(model.summary())"
   ]
  },
  {
   "cell_type": "code",
   "execution_count": null,
   "metadata": {},
   "outputs": [],
   "source": [
    "from sklearn.metrics import classification_report\n",
    "import sklearn.metrics as metrics\n",
    "\n",
    "#from keras import metrics\n",
    "\n",
    "\n",
    "y_pred = model.predict(x_test.astype('float64'))\n",
    "target_names=['fire', 'no_fire']\n",
    "print(classification_report(y_test.argmax(axis=1), y_pred.argmax(axis=1), target_names=target_names))\n",
    "\n",
    "\n",
    "matrix = metrics.confusion_matrix(y_test.argmax(axis=1), y_pred.argmax(axis=1))\n"
   ]
  },
  {
   "cell_type": "code",
   "execution_count": null,
   "metadata": {},
   "outputs": [],
   "source": [
    "matrix"
   ]
  },
  {
   "cell_type": "code",
   "execution_count": null,
   "metadata": {},
   "outputs": [],
   "source": [
    "from sklearn.metrics import classification_report\n",
    "print(classification_report(y_test.argmax(axis=1), y_pred.argmax(axis=1)))"
   ]
  },
  {
   "cell_type": "code",
   "execution_count": null,
   "metadata": {},
   "outputs": [],
   "source": []
  },
  {
   "cell_type": "code",
   "execution_count": null,
   "metadata": {},
   "outputs": [],
   "source": [
    "#plot loss during training\n",
    "plt.subplot(211)\n",
    "plt.title('Loss')\n",
    "plt.plot(history.history['loss'], label='train')\n",
    "plt.plot(history.history['loss'], label='test')\n",
    "plt.legend()\n",
    "# plot accuracy during training\n",
    "plt.subplot(212)\n",
    "plt.title('Accuracy')\n",
    "plt.plot(history.history['accuracy'], label='train')\n",
    "#plt.plot(history.history['valaccuracy'], label='test')\n",
    "plt.legend()\n"
   ]
  },
  {
   "cell_type": "code",
   "execution_count": null,
   "metadata": {},
   "outputs": [],
   "source": [
    "from sklearn.metrics import roc_curve\n",
    "y_pred_keras = model.predict(x_test)\n",
    "fpr_keras, tpr_keras, thresholds_keras = roc_curve(y_test.argmax(axis=1), y_pred_keras.round().argmax(axis=1))\n",
    "fpr_keras_train, tpr_keras_train, thresholds_keras_train = roc_curve(y_train.argmax(axis=1), y_train.round().argmax(axis=1))\n",
    "\n",
    "from sklearn.metrics import auc\n",
    "auc_keras = auc(fpr_keras, tpr_keras)\n",
    "\n",
    "plt.figure(1)\n",
    "plt.plot([0, 1], [0, 1], 'k--')\n",
    "plt.plot(fpr_keras, tpr_keras, label='Keras (area = {:.3f})'.format(auc_keras))\n",
    "#plt.plot(fpr_keras_train, tpr_keras_train, label='Keras (area = {:.3f})'.format(auc_keras))\n",
    "#plt.plot(fpr_rf, tpr_rf, label='RF (area = {:.3f})'.format(auc_rf))\n",
    "plt.xlabel('False positive rate')\n",
    "plt.ylabel('True positive rate')\n",
    "plt.title('ROC curve')\n",
    "plt.legend(loc='best')\n",
    "plt.show()\n",
    "# Zoom in view of the upper left corner.\n",
    "plt.figure(2)\n",
    "plt.xlim(0, 0.2)\n",
    "plt.ylim(0.8, 1)\n",
    "plt.plot([0, 1], [0, 1], 'k--')\n",
    "plt.plot(fpr_keras, tpr_keras, label='Keras (area = {:.3f})'.format(auc_keras))\n",
    "#plt.plot(fpr_rf, tpr_rf, label='RF (area = {:.3f})'.format(auc_rf))\n",
    "plt.xlabel('False positive rate')\n",
    "plt.ylabel('True positive rate')\n",
    "plt.title('ROC curve (zoomed in at top left)')\n",
    "plt.legend(loc='best')\n",
    "plt.show()"
   ]
  },
  {
   "cell_type": "code",
   "execution_count": null,
   "metadata": {},
   "outputs": [],
   "source": []
  },
  {
   "cell_type": "code",
   "execution_count": null,
   "metadata": {},
   "outputs": [],
   "source": [
    "import seaborn as sns\n",
    "from sklearn.metrics import confusion_matrix\n",
    "\n",
    "conf_matx = confusion_matrix(y_test.argmax(axis=1), y_pred.argmax())\n",
    "sns.heatmap(conf_matx, annot=True,annot_kws={\"size\": 12},fmt='g', cbar=False, cmap=\"viridis\")\n",
    "plt.show()"
   ]
  },
  {
   "cell_type": "code",
   "execution_count": null,
   "metadata": {},
   "outputs": [],
   "source": [
    "from sklearn.metrics import roc_curve, auc\n",
    "\n",
    "# predict probabilities for X_test using predict_proba\n",
    "probabilities = model.predict(x_test)\n",
    "\n",
    "# select the probabilities for label 1.0\n",
    "y_pred = probabilities[:, 1]\n",
    "\n",
    "# calculate false positive rate and true positive rate at different thresholds\n",
    "false_positive_rate, true_positive_rate, thresholds = roc_curve(y_test, y_pred, pos_label=1)\n",
    "\n",
    "# calculate AUC\n",
    "roc_auc = auc(false_positive_rate, true_positive_rate)\n",
    "\n",
    "plt.title('Receiver Operating Characteristic')\n",
    "# plot the false positive rate on the x axis and the true positive rate on the y axis\n",
    "roc_plot = plt.plot(false_positive_rate,\n",
    "                    true_positive_rate,\n",
    "                    label='AUC = {:0.2f}'.format(roc_auc))\n",
    "\n",
    "plt.legend(loc=0)\n",
    "plt.plot([0,1], [0,1], ls='--')\n",
    "plt.ylabel('True Positive Rate')\n",
    "plt.xlabel('False Positive Rate');"
   ]
  },
  {
   "cell_type": "code",
   "execution_count": null,
   "metadata": {},
   "outputs": [],
   "source": []
  },
  {
   "cell_type": "code",
   "execution_count": null,
   "metadata": {},
   "outputs": [],
   "source": []
  }
 ],
 "metadata": {
  "kernelspec": {
   "display_name": "Python 3",
   "language": "python",
   "name": "python3"
  },
  "language_info": {
   "codemirror_mode": {
    "name": "ipython",
    "version": 3
   },
   "file_extension": ".py",
   "mimetype": "text/x-python",
   "name": "python",
   "nbconvert_exporter": "python",
   "pygments_lexer": "ipython3",
   "version": "3.7.5"
  }
 },
 "nbformat": 4,
 "nbformat_minor": 2
}
