{
 "cells": [
  {
   "cell_type": "code",
   "execution_count": null,
   "metadata": {},
   "outputs": [],
   "source": [
    "import pandas as pd\n",
    "import os\n",
    "from glob import glob\n",
    "from PIL import Image\n",
    "import matplotlib.pyplot as plt\n",
    "import numpy as np"
   ]
  },
  {
   "cell_type": "code",
   "execution_count": null,
   "metadata": {},
   "outputs": [],
   "source": [
    "filedir = '<your folder here>'"
   ]
  },
  {
   "cell_type": "code",
   "execution_count": null,
   "metadata": {},
   "outputs": [],
   "source": [
    "#df = pd.read_csv('data/landsat8_data_with_fire.csv')\n",
    "\n",
    "df = pd.read_csv(os.path.join(filedir, 'dataset_path40_39_with_fire_v1.csv'))\n",
    "                \n",
    "\n",
    "df=df.drop(columns=[\"Unnamed: 0\",\"Unnamed: 0.1\"])\n",
    "df.head(2)"
   ]
  },
  {
   "cell_type": "code",
   "execution_count": null,
   "metadata": {},
   "outputs": [],
   "source": [
    "df_fire = df\n",
    "df_fire['fire_nofire'] = df_fire['fire_nofire'].map(lambda x : 'no_fire' if x == 'no fire' else 'fire')\n",
    "df_fire.head(2)\n",
    "df = df_fire"
   ]
  },
  {
   "cell_type": "code",
   "execution_count": null,
   "metadata": {},
   "outputs": [],
   "source": [
    "df_fire = df_fire[(df_fire.width == 512) & (df_fire.height == 512)]"
   ]
  },
  {
   "cell_type": "code",
   "execution_count": null,
   "metadata": {},
   "outputs": [],
   "source": [
    "df_dataset = df_fire[df_fire.fire_nofire == 'fire'].append(df_fire[df_fire.fire_nofire == 'no_fire'][0:2000])"
   ]
  },
  {
   "cell_type": "code",
   "execution_count": null,
   "metadata": {},
   "outputs": [],
   "source": [
    "df_dataset.shape"
   ]
  },
  {
   "cell_type": "code",
   "execution_count": null,
   "metadata": {},
   "outputs": [],
   "source": [
    "from PIL import TiffImagePlugin\n",
    "\n",
    "def resize(image, width, height):\n",
    "    #print(image)\n",
    "    \n",
    "    #im1 = Image.open(image)\n",
    "    \n",
    "    width = width\n",
    "    height = height\n",
    "    # use one of these filter options to resize the image\n",
    "    im2 = image.resize((width, height), Image.NEAREST)      # use nearest neighbour\n",
    "    return im2\n",
    "\n",
    "'''def resize(filename, width, height):\n",
    "    #print(image)\n",
    "    \n",
    "    im1 = Image.open(filename)\n",
    "    \n",
    "    width = width\n",
    "    height = height\n",
    "    # use one of these filter options to resize the image\n",
    "    im2 = im1.resize((width, height), Image.NEAREST)      # use nearest neighbour\n",
    "    return im2'''"
   ]
  },
  {
   "cell_type": "code",
   "execution_count": null,
   "metadata": {},
   "outputs": [],
   "source": [
    "def plotgrid(dataframe):\n",
    "    images=[]\n",
    "    classes=[]\n",
    "    for item in df_date.itertuples():\n",
    "        #print(item.filename)\n",
    "        filename, ext = os.path.splitext(item.filename)\n",
    "        rowcol = filename.split(\"_\")\n",
    "        loc = \"{}:{}\".format(rowcol[9], rowcol[10])\n",
    "        filename = os.path.join(filedir, 'ndvijpegs',filename+\".jpeg\")\n",
    "    \n",
    "        #print(filename)\n",
    "        im = Image.open(filename)\n",
    "        \n",
    "        im = resize(im, 100, 100)\n",
    "        images.append(im)\n",
    "        classes.append(item.fire_nofire)\n",
    "    fig = plt.figure(figsize=(10, 10))\n",
    "    grid = ImageGrid(fig, 111,  # similar to subplot(111)\n",
    "                 nrows_ncols=(16, 16),  # creates 2x2 grid of axes\n",
    "                 axes_pad=0.1,  # pad between axes in inch.\n",
    "                 )\n",
    "    #im_fire = Image.open(\"data/fire.png\")\n",
    "    #im_fire = resize(im_fire, 25,25)\n",
    "    for ax, im, c in zip(grid, images,classes):\n",
    "        # Iterating over the grid returns the Axes.\n",
    "        ax.text(50,50, loc)\n",
    "        ax.imshow(im,cmap='terrain')\n",
    "        \n",
    "        if c == 'fire':\n",
    "            extent = 0, 100, 0, 100\n",
    "            kwargs = {\"alpha\":0.1}\n",
    "            rect = patches.Rectangle((0,0),100,100,linewidth=1,edgecolor='r',facecolor='r', **kwargs)\n",
    "            #rect.set_alpha(0.1)\n",
    "            ax.add_patch(rect)\n",
    "            #ax.imshow(im_fire, alpha=0.1, extent=extent)\n",
    "        \n",
    "\n",
    "\n",
    "\n",
    "\n",
    "    plt.show()"
   ]
  },
  {
   "cell_type": "code",
   "execution_count": null,
   "metadata": {},
   "outputs": [],
   "source": []
  },
  {
   "cell_type": "code",
   "execution_count": null,
   "metadata": {},
   "outputs": [],
   "source": [
    "\n",
    "Path={}\n",
    "for item in glob(os.path.join(filedir, 'ndvijpegs', '*.jpeg')):\n",
    "    #print(item)\n",
    "    filename = os.path.splitext(os.path.basename(item))[0]\n",
    "    #print(filename)\n",
    "    Path[filename+\".TIF\"] = item\n",
    " \n",
    "\n"
   ]
  },
  {
   "cell_type": "code",
   "execution_count": null,
   "metadata": {},
   "outputs": [],
   "source": [
    "df_dataset['path'] = df_dataset['filename'].map(Path.get)\n",
    "df_dataset.head(2)"
   ]
  },
  {
   "cell_type": "code",
   "execution_count": null,
   "metadata": {},
   "outputs": [],
   "source": [
    "df_dataset['image'] = df_dataset['path'].map(lambda x: np.asarray(Image.open(x).resize((28,28))))"
   ]
  },
  {
   "cell_type": "code",
   "execution_count": null,
   "metadata": {},
   "outputs": [],
   "source": [
    "df_dataset.head(2)\n"
   ]
  },
  {
   "cell_type": "code",
   "execution_count": null,
   "metadata": {},
   "outputs": [],
   "source": []
  },
  {
   "cell_type": "code",
   "execution_count": null,
   "metadata": {},
   "outputs": [],
   "source": [
    "df_dataset['image'] = df_dataset['image'].map(lambda x: np.array(x).reshape(x.shape[0],x.shape[1], 1))\n",
    "#df_dataset['image'][0].reshape(512,512,1)"
   ]
  },
  {
   "cell_type": "code",
   "execution_count": null,
   "metadata": {},
   "outputs": [],
   "source": [
    "#df_dataset = df_dataset[df_dataset.width == 512]"
   ]
  },
  {
   "cell_type": "code",
   "execution_count": null,
   "metadata": {},
   "outputs": [],
   "source": [
    "X=df_dataset.drop(columns=[\"fire_nofire\"])\n",
    "Y=df_dataset[\"fire_nofire\"]\n",
    "from sklearn.model_selection import train_test_split\n",
    "X_train, X_test, Y_train, Y_test = train_test_split(\n",
    "     X, Y, test_size=0.33, random_state=42)\n",
    "\n",
    "#X_train = np.array(X_train).reshape(10078, 28,28,1)\n"
   ]
  },
  {
   "cell_type": "code",
   "execution_count": null,
   "metadata": {},
   "outputs": [],
   "source": [
    "x_train = np.asarray(X_train['image'].tolist())\n",
    "\n",
    "x_test = np.asarray(X_test['image'].tolist())\n",
    "#x_train = x_train.reshape(x_train.shape[0], *(512,512,1))\n",
    "#x_test = x_test.reshape(x_test.shape[0], *(75, 100, 3))\n",
    "\n"
   ]
  },
  {
   "cell_type": "code",
   "execution_count": null,
   "metadata": {},
   "outputs": [],
   "source": [
    "import keras"
   ]
  },
  {
   "cell_type": "code",
   "execution_count": null,
   "metadata": {},
   "outputs": [],
   "source": [
    "#import sys\n",
    "#!{sys.executable}  -m pip install --user keras"
   ]
  },
  {
   "cell_type": "code",
   "execution_count": null,
   "metadata": {},
   "outputs": [],
   "source": [
    "#!{sys.executable}  -m pip install --user tensorflow"
   ]
  },
  {
   "cell_type": "code",
   "execution_count": null,
   "metadata": {},
   "outputs": [],
   "source": [
    "from sklearn import preprocessing\n",
    "le = preprocessing.LabelEncoder()\n",
    "\n",
    "t1 = le.fit_transform(Y_train)\n",
    "t2 = le.fit_transform(Y_test)\n",
    "y_train = keras.utils.to_categorical(t1, num_classes=2)\n",
    "y_test = keras.utils.to_categorical(t2, num_classes=2)\n",
    "y_train.shape"
   ]
  },
  {
   "cell_type": "code",
   "execution_count": null,
   "metadata": {},
   "outputs": [],
   "source": [
    "nsamples, nx, ny, nz = x_train.shape\n",
    "d2_train_dataset = x_train.reshape((nsamples,nx*ny))\n",
    "d2_train_dataset.shape"
   ]
  },
  {
   "cell_type": "code",
   "execution_count": null,
   "metadata": {},
   "outputs": [],
   "source": [
    "nsamples, nx, ny, nz = x_test.shape\n",
    "d2_test_dataset = x_test.reshape((nsamples,nx*ny))\n",
    "d2_test_dataset.shape"
   ]
  },
  {
   "cell_type": "code",
   "execution_count": null,
   "metadata": {},
   "outputs": [],
   "source": [
    "from sklearn.neural_network import MLPClassifier\n",
    "clf = MLPClassifier(solver='adam', alpha=1e-5)\n",
    "clf.fit(d2_train_dataset, y_train)"
   ]
  },
  {
   "cell_type": "code",
   "execution_count": null,
   "metadata": {},
   "outputs": [],
   "source": [
    "from sklearn.metrics import classification_report\n",
    "y_pred = clf.predict(d2_test_dataset)\n",
    "target_names=['fire', 'no_fire']\n",
    "print(classification_report(y_test, y_pred, target_names=target_names))"
   ]
  },
  {
   "cell_type": "code",
   "execution_count": null,
   "metadata": {},
   "outputs": [],
   "source": [
    "from sklearn.metrics import roc_curve, auc\n",
    "y_score = clf.predict(d2_test_dataset)\n",
    "\n",
    "# Compute ROC curve and ROC area for each class\n",
    "fpr = dict()\n",
    "tpr = dict()\n",
    "roc_auc = dict()\n",
    "for i in range(2):\n",
    "    fpr[i], tpr[i], _ = roc_curve(y_test[:, i], y_score[:, i])\n",
    "    roc_auc[i] = auc(fpr[i], tpr[i])\n",
    "\n",
    "# Compute micro-average ROC curve and ROC area\n",
    "fpr[\"micro\"], tpr[\"micro\"], _ = roc_curve(y_test.ravel(), y_score.ravel())\n",
    "roc_auc[\"micro\"] = auc(fpr[\"micro\"], tpr[\"micro\"])\n",
    "\n",
    "\n",
    "plt.figure()\n",
    "lw = 2\n",
    "plt.plot(fpr[0], tpr[0], color='darkorange',\n",
    "         lw=lw, label='ROC curve (area = %0.2f)' % roc_auc[0])\n",
    "plt.plot([0, 1], [0, 1], color='navy', lw=lw, linestyle='--')\n",
    "plt.xlim([0.0, 1.0])\n",
    "plt.ylim([0.0, 1.05])\n",
    "plt.xlabel('False Positive Rate')\n",
    "plt.ylabel('True Positive Rate')\n",
    "plt.title('Receiver operating characteristic example')\n",
    "plt.legend(loc=\"lower right\")\n",
    "plt.show()"
   ]
  },
  {
   "cell_type": "code",
   "execution_count": null,
   "metadata": {},
   "outputs": [],
   "source": [
    "import matplotlib.pyplot as plt\n",
    "import warnings\n",
    "from sklearn.neural_network import MLPClassifier\n",
    "from sklearn.preprocessing import MinMaxScaler\n",
    "from sklearn import datasets\n",
    "from sklearn.exceptions import ConvergenceWarning\n",
    "\n",
    "# different learning rate schedules and momentum parameters\n",
    "params = [{'solver': 'sgd', 'learning_rate': 'constant', 'momentum': 0,\n",
    "           'learning_rate_init': 0.2},\n",
    "          {'solver': 'sgd', 'learning_rate': 'constant', 'momentum': .9,\n",
    "           'nesterovs_momentum': False, 'learning_rate_init': 0.2},\n",
    "          {'solver': 'sgd', 'learning_rate': 'constant', 'momentum': .9,\n",
    "           'nesterovs_momentum': True, 'learning_rate_init': 0.2},\n",
    "          {'solver': 'sgd', 'learning_rate': 'invscaling', 'momentum': 0,\n",
    "           'learning_rate_init': 0.2},\n",
    "          {'solver': 'sgd', 'learning_rate': 'invscaling', 'momentum': .9,\n",
    "           'nesterovs_momentum': True, 'learning_rate_init': 0.2},\n",
    "          {'solver': 'sgd', 'learning_rate': 'invscaling', 'momentum': .9,\n",
    "           'nesterovs_momentum': False, 'learning_rate_init': 0.2},\n",
    "          {'solver': 'adam', 'learning_rate_init': 0.01}]\n",
    "\n",
    "labels = [\"constant learning-rate\", \"constant with momentum\",\n",
    "          \"constant with Nesterov's momentum\",\n",
    "          \"inv-scaling learning-rate\", \"inv-scaling with momentum\",\n",
    "          \"inv-scaling with Nesterov's momentum\", \"adam\"]\n",
    "\n",
    "plot_args = [{'c': 'red', 'linestyle': '-'},\n",
    "             {'c': 'green', 'linestyle': '-'},\n",
    "             {'c': 'blue', 'linestyle': '-'},\n",
    "             {'c': 'red', 'linestyle': '--'},\n",
    "             {'c': 'green', 'linestyle': '--'},\n",
    "             {'c': 'blue', 'linestyle': '--'},\n",
    "             {'c': 'black', 'linestyle': '-'}]\n",
    "\n",
    "\n",
    "def plot_on_dataset(X, y, ax, name):\n",
    "    # for each dataset, plot learning for each learning strategy\n",
    "    print(\"\\nlearning on dataset %s\" % name)\n",
    "    ax.set_title(name)\n",
    "\n",
    "    X = MinMaxScaler().fit_transform(X)\n",
    "    mlps = []\n",
    "    if name == \"digits\":\n",
    "        # digits is larger but converges fairly quickly\n",
    "        max_iter = 15\n",
    "    else:\n",
    "        max_iter = 400\n",
    "\n",
    "    for label, param in zip(labels, params):\n",
    "        print(\"training: %s\" % label)\n",
    "        mlp = MLPClassifier(random_state=0,\n",
    "                            max_iter=max_iter, **param)\n",
    "\n",
    "        # some parameter combinations will not converge as can be seen on the\n",
    "        # plots so they are ignored here\n",
    "        with warnings.catch_warnings():\n",
    "            warnings.filterwarnings(\"ignore\", category=ConvergenceWarning,\n",
    "                                    module=\"sklearn\")\n",
    "            mlp.fit(X, y)\n",
    "\n",
    "        mlps.append(mlp)\n",
    "        print(\"Training set score: %f\" % mlp.score(X, y))\n",
    "        print(\"Training set loss: %f\" % mlp.loss_)\n",
    "    for mlp, label, args in zip(mlps, labels, plot_args):\n",
    "        ax.plot(mlp.loss_curve_, label=label, **args)\n",
    "\n",
    "\n",
    "fig, ax = plt.subplots(1, 1, figsize=(10, 5))\n",
    "# load / generate some toy datasets\n",
    "#iris = datasets.load_iris()\n",
    "#X_digits, y_digits = datasets.load_digits(return_X_y=True)\n",
    "data_sets = [(d2_train_dataset, y_train)]\n",
    "\n",
    "#for ax, data, name in zip(axes.ravel(), data_sets, ['Wildfire NDVI']):\n",
    "plot_on_dataset(d2_train_dataset, y_train, ax=ax, name='Wildfire NDVI')\n",
    "\n",
    "fig.legend(ax.get_lines(), labels, ncol=3, loc=\"upper center\")\n",
    "plt.show()\n"
   ]
  },
  {
   "cell_type": "code",
   "execution_count": null,
   "metadata": {},
   "outputs": [],
   "source": [
    "from mpl_toolkits.axes_grid1 import ImageGrid\n",
    "import matplotlib.patches as patches\n",
    "def plotgrid1(dataframe):\n",
    "    images=[]\n",
    "    classes=[]\n",
    "    predictions=[]\n",
    "    for item in dataframe.itertuples():\n",
    "        #print(item.filename)\n",
    "        filename, ext = os.path.splitext(item.filename)\n",
    "        rowcol = filename.split(\"_\")\n",
    "        loc = \"{}:{}\".format(rowcol[9], rowcol[10])\n",
    "        filename = os.path.join(filedir, 'ndvijpegs',filename+\".jpeg\")\n",
    "    \n",
    "        #print(filename)\n",
    "        im = Image.open(filename)\n",
    "        #im = Image.fromarray(item.image)\n",
    "\n",
    "        \n",
    "        #im = resize(im, 100, 100)\n",
    "        images.append(im)\n",
    "        classes.append(item.actual)\n",
    "        predictions.append(item.pred)\n",
    "    fig = plt.figure(figsize=(10, 10))\n",
    "    grid = ImageGrid(fig, 111,  # similar to subplot(111)\n",
    "                 nrows_ncols=(16, 16),  # creates 2x2 grid of axes\n",
    "                 axes_pad=0.1,  # pad between axes in inch.\n",
    "                 )\n",
    "    #im_fire = Image.open(\"data/fire.png\")\n",
    "    #im_fire = resize(im_fire, 25,25)\n",
    "    for ax, im, c, p in zip(grid, images,classes, predictions):\n",
    "        # Iterating over the grid returns the Axes.\n",
    "        ax.text(50,50, loc)\n",
    "        ax.imshow(im)\n",
    "        \n",
    "        if c == 'fire':\n",
    "            #extent = 0, 100, 0, 100\n",
    "            kwargs = {\"alpha\":0.1}\n",
    "            rect = patches.Rectangle((0,0),50,50,linewidth=1,edgecolor='r',facecolor='r', **kwargs)\n",
    "            #rect.set_alpha(0.1)\n",
    "            ax.add_patch(rect)\n",
    "            #ax.imshow(im_fire, alpha=0.1, extent=extent)\n",
    "        if p == 'fire':\n",
    "            #extent = 0, 100, 0, 100\n",
    "            kwargs = {\"alpha\":0.5}\n",
    "            rect = patches.Rectangle((50,50),100,100,linewidth=1,edgecolor='b',facecolor='b', **kwargs)\n",
    "            #rect.set_alpha(0.1)\n",
    "            ax.add_patch(rect)\n",
    "            #ax.imshow(im_fire, alpha=0.1, extent=extent)\n",
    "        \n",
    "\n",
    "\n",
    "\n",
    "\n",
    "    plt.show()\n",
    "\n",
    "plotgrid1(X_test)"
   ]
  },
  {
   "cell_type": "code",
   "execution_count": null,
   "metadata": {},
   "outputs": [],
   "source": []
  }
 ],
 "metadata": {
  "kernelspec": {
   "display_name": "Python 3",
   "language": "python",
   "name": "python3"
  },
  "language_info": {
   "codemirror_mode": {
    "name": "ipython",
    "version": 3
   },
   "file_extension": ".py",
   "mimetype": "text/x-python",
   "name": "python",
   "nbconvert_exporter": "python",
   "pygments_lexer": "ipython3",
   "version": "3.7.5"
  }
 },
 "nbformat": 4,
 "nbformat_minor": 2
}
