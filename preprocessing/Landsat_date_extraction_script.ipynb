{
 "cells": [
  {
   "cell_type": "code",
   "execution_count": 1,
   "metadata": {},
   "outputs": [
    {
     "data": {
      "text/plain": [
       "' Script to add a date column to landsat8 dataset'"
      ]
     },
     "execution_count": 1,
     "metadata": {},
     "output_type": "execute_result"
    }
   ],
   "source": [
    "''' Script to add a date column to landsat8 dataset'''"
   ]
  },
  {
   "cell_type": "code",
   "execution_count": 2,
   "metadata": {},
   "outputs": [],
   "source": [
    "# import libraries\n",
    "import numpy as np\n",
    "import pandas as pd\n",
    "from datetime import datetime"
   ]
  },
  {
   "cell_type": "code",
   "execution_count": 3,
   "metadata": {},
   "outputs": [
    {
     "data": {
      "text/html": [
       "<div>\n",
       "<style scoped>\n",
       "    .dataframe tbody tr th:only-of-type {\n",
       "        vertical-align: middle;\n",
       "    }\n",
       "\n",
       "    .dataframe tbody tr th {\n",
       "        vertical-align: top;\n",
       "    }\n",
       "\n",
       "    .dataframe thead th {\n",
       "        text-align: right;\n",
       "    }\n",
       "</style>\n",
       "<table border=\"1\" class=\"dataframe\">\n",
       "  <thead>\n",
       "    <tr style=\"text-align: right;\">\n",
       "      <th></th>\n",
       "      <th>Unnamed: 0</th>\n",
       "      <th>filename</th>\n",
       "      <th>latitude</th>\n",
       "      <th>longitude</th>\n",
       "      <th>width</th>\n",
       "      <th>height</th>\n",
       "    </tr>\n",
       "  </thead>\n",
       "  <tbody>\n",
       "    <tr>\n",
       "      <th>0</th>\n",
       "      <td>0</td>\n",
       "      <td>LC08_L1TP_040037_20180128_20180207_01_T1_NDVI_...</td>\n",
       "      <td>34.154865</td>\n",
       "      <td>-118.324757</td>\n",
       "      <td>512</td>\n",
       "      <td>512</td>\n",
       "    </tr>\n",
       "    <tr>\n",
       "      <th>1</th>\n",
       "      <td>0</td>\n",
       "      <td>LC08_L1TP_040037_20180128_20180207_01_T1_NDVI_...</td>\n",
       "      <td>34.085619</td>\n",
       "      <td>-118.323677</td>\n",
       "      <td>512</td>\n",
       "      <td>512</td>\n",
       "    </tr>\n",
       "    <tr>\n",
       "      <th>2</th>\n",
       "      <td>0</td>\n",
       "      <td>LC08_L1TP_040037_20180128_20180207_01_T1_NDVI_...</td>\n",
       "      <td>34.016373</td>\n",
       "      <td>-118.322601</td>\n",
       "      <td>512</td>\n",
       "      <td>512</td>\n",
       "    </tr>\n",
       "    <tr>\n",
       "      <th>3</th>\n",
       "      <td>0</td>\n",
       "      <td>LC08_L1TP_040037_20180128_20180207_01_T1_NDVI_...</td>\n",
       "      <td>33.947126</td>\n",
       "      <td>-118.321529</td>\n",
       "      <td>512</td>\n",
       "      <td>512</td>\n",
       "    </tr>\n",
       "    <tr>\n",
       "      <th>4</th>\n",
       "      <td>0</td>\n",
       "      <td>LC08_L1TP_040037_20180128_20180207_01_T1_NDVI_...</td>\n",
       "      <td>33.877878</td>\n",
       "      <td>-118.320460</td>\n",
       "      <td>512</td>\n",
       "      <td>512</td>\n",
       "    </tr>\n",
       "  </tbody>\n",
       "</table>\n",
       "</div>"
      ],
      "text/plain": [
       "   Unnamed: 0                                           filename   latitude  \\\n",
       "0           0  LC08_L1TP_040037_20180128_20180207_01_T1_NDVI_...  34.154865   \n",
       "1           0  LC08_L1TP_040037_20180128_20180207_01_T1_NDVI_...  34.085619   \n",
       "2           0  LC08_L1TP_040037_20180128_20180207_01_T1_NDVI_...  34.016373   \n",
       "3           0  LC08_L1TP_040037_20180128_20180207_01_T1_NDVI_...  33.947126   \n",
       "4           0  LC08_L1TP_040037_20180128_20180207_01_T1_NDVI_...  33.877878   \n",
       "\n",
       "    longitude  width  height  \n",
       "0 -118.324757    512     512  \n",
       "1 -118.323677    512     512  \n",
       "2 -118.322601    512     512  \n",
       "3 -118.321529    512     512  \n",
       "4 -118.320460    512     512  "
      ]
     },
     "execution_count": 3,
     "metadata": {},
     "output_type": "execute_result"
    }
   ],
   "source": [
    "# import landsat8 data\n",
    "data = pd.read_csv('landsat8_data.csv')\n",
    "data.head(5)"
   ]
  },
  {
   "cell_type": "code",
   "execution_count": 15,
   "metadata": {},
   "outputs": [],
   "source": [
    "# Add a date column to the existing data\n",
    "data = data.assign(date=data.filename.map(lambda x: datetime.strptime(x.split(\"_\")[3], '%Y%m%d').date()))"
   ]
  },
  {
   "cell_type": "code",
   "execution_count": 16,
   "metadata": {},
   "outputs": [],
   "source": [
    "data.to_csv('landsat8_data_with_date.csv')"
   ]
  },
  {
   "cell_type": "code",
   "execution_count": null,
   "metadata": {},
   "outputs": [],
   "source": []
  }
 ],
 "metadata": {
  "kernelspec": {
   "display_name": "Python 3",
   "language": "python",
   "name": "python3"
  },
  "language_info": {
   "codemirror_mode": {
    "name": "ipython",
    "version": 3
   },
   "file_extension": ".py",
   "mimetype": "text/x-python",
   "name": "python",
   "nbconvert_exporter": "python",
   "pygments_lexer": "ipython3",
   "version": "3.7.3"
  }
 },
 "nbformat": 4,
 "nbformat_minor": 2
}
